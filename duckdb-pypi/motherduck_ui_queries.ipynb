{
 "cells": [
  {
   "cell_type": "code",
   "execution_count": 1,
   "metadata": {},
   "outputs": [],
   "source": [
    "# This notebook shouldn't be used, copy the queries to MotherDuck UI to show the UI!\n",
    "import duckdb\n",
    "conn = duckdb.connect('md:')\n"
   ]
  },
  {
   "cell_type": "code",
   "execution_count": null,
   "metadata": {},
   "outputs": [],
   "source": [
    "conn.sql('ATTACH md:_share/duckdb_stats/d87758b0-7806-4803-8c5d-17144f56bd12')\n"
   ]
  },
  {
   "cell_type": "code",
   "execution_count": null,
   "metadata": {},
   "outputs": [],
   "source": [
    "conn.sql('DROP DATABASE IF EXISTS my_demo_share CASCADE')\n",
    "conn.sql('CREATE DATABASE my_demo_share')\n"
   ]
  },
  {
   "cell_type": "code",
   "execution_count": null,
   "metadata": {},
   "outputs": [],
   "source": [
    "conn.sql(\"\"\"\n",
    "CREATE TABLE my_demo_share.weekly_download AS\n",
    "SELECT \n",
    "    EXTRACT(year FROM timestamp) AS year, \n",
    "    EXTRACT(month FROM timestamp) AS month, \n",
    "    COUNT(*) AS download_count \n",
    "FROM \n",
    "    duckdb_stats.pypi \n",
    "GROUP BY \n",
    "    year, month\n",
    "order by \n",
    "    year DESC, month DESC;\n",
    "\"\"\")\n"
   ]
  },
  {
   "cell_type": "code",
   "execution_count": null,
   "metadata": {},
   "outputs": [],
   "source": [
    "conn.sql(\"\"\"\n",
    "CREATE TABLE my_demo_share.country_download AS\n",
    "SELECT \n",
    "    country_code, \n",
    "    COUNT(*) as download_count \n",
    "FROM \n",
    "    duckdb_stats.pypi\n",
    "GROUP BY \n",
    "    country_code \n",
    "ORDER BY \n",
    "    download_count DESC \n",
    "LIMIT 1000;\n",
    "\"\"\")\n"
   ]
  },
  {
   "cell_type": "code",
   "execution_count": null,
   "metadata": {},
   "outputs": [],
   "source": [
    "conn.sql(\"\"\"\n",
    "CREATE TABLE my_demo_share.weekly_duckdb_version AS\n",
    "SELECT \n",
    "    EXTRACT(year FROM timestamp) AS year,\n",
    "    EXTRACT(week FROM timestamp) AS week,\n",
    "    file->>'version' AS duckdb_version,\n",
    "    COUNT(*) AS download_count\n",
    "FROM \n",
    "    duckdb_stats.pypi\n",
    "WHERE \n",
    "    project = 'duckdb'\n",
    "GROUP BY \n",
    "    year, week, duckdb_version\n",
    "ORDER BY \n",
    "    year DESC, week DESC, download_count DESC;\n",
    "\"\"\")\n"
   ]
  },
  {
   "cell_type": "code",
   "execution_count": null,
   "metadata": {},
   "outputs": [],
   "source": [
    "conn.sql(\"\"\"\n",
    "CREATE table my_demo_share.weekly_python_version AS\n",
    "SELECT \n",
    "    EXTRACT(year FROM timestamp) AS year, \n",
    "    EXTRACT(week FROM timestamp) AS week, \n",
    "    CONCAT(SPLIT_PART(python_version, '.', 1), '.', SPLIT_PART(python_version, '.', 2)) AS python_major_minor_version,\n",
    "    COUNT(*) AS download_count\n",
    "FROM (\n",
    "    SELECT timestamp, \n",
    "           details->>'python' as python_version \n",
    "    FROM duckdb_stats.pypi\n",
    "    WHERE (details->>'python' IS NOT NULL) AND (details->>'python' <> '')\n",
    ") as filtered_data\n",
    "GROUP BY \n",
    "    year, week, python_major_minor_version\n",
    "ORDER BY \n",
    "    year DESC, week DESC, download_count DESC;\n",
    "\n",
    "\"\"\")\n"
   ]
  }
 ],
 "metadata": {
  "kernelspec": {
   "display_name": "Python 3",
   "language": "python",
   "name": "python3"
  },
  "language_info": {
   "codemirror_mode": {
    "name": "ipython",
    "version": 3
   },
   "file_extension": ".py",
   "mimetype": "text/x-python",
   "name": "python",
   "nbconvert_exporter": "python",
   "pygments_lexer": "ipython3",
   "version": "3.11.6"
  }
 },
 "nbformat": 4,
 "nbformat_minor": 2
}
