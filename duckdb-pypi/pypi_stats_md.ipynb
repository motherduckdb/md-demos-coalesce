{
 "cells": [
  {
   "cell_type": "code",
   "execution_count": null,
   "metadata": {},
   "outputs": [],
   "source": [
    "import duckdb\n",
    "conn = duckdb.connect('md:')\n",
    "\n"
   ]
  },
  {
   "cell_type": "code",
   "execution_count": null,
   "metadata": {},
   "outputs": [],
   "source": [
    "conn.sql('ATTACH md:_share/duckdb_stats/d87758b0-7806-4803-8c5d-17144f56bd12')\n"
   ]
  },
  {
   "cell_type": "code",
   "execution_count": null,
   "metadata": {},
   "outputs": [],
   "source": [
    "conn.sql(\"\"\"\n",
    "SELECT EXTRACT(year FROM timestamp) AS year, EXTRACT(month FROM timestamp) AS month, COUNT(*) AS download_count \n",
    "FROM pypi \n",
    "GROUP BY year, month\n",
    "order by year DESC, month DESC;\n",
    "\"\"\")\n"
   ]
  },
  {
   "cell_type": "code",
   "execution_count": null,
   "metadata": {},
   "outputs": [],
   "source": [
    "conn.sql(\"\"\"\n",
    "SELECT country_code, COUNT(*) as download_count \n",
    "FROM pypi\n",
    "GROUP BY country_code \n",
    "ORDER BY download_count DESC \n",
    "LIMIT 1000;\"\"\")\n"
   ]
  },
  {
   "cell_type": "code",
   "execution_count": null,
   "metadata": {},
   "outputs": [],
   "source": [
    "conn.sql(\"\"\"SELECT \n",
    "    EXTRACT(dow FROM timestamp) AS day_of_week, \n",
    "    COUNT(*) AS download_count\n",
    "FROM \n",
    "    pypi \n",
    "GROUP BY \n",
    "    day_of_week\n",
    "ORDER BY \n",
    "    download_count DESC;\n",
    "\"\"\")\n"
   ]
  },
  {
   "cell_type": "code",
   "execution_count": null,
   "metadata": {},
   "outputs": [],
   "source": [
    "conn.sql(\"\"\"\n",
    "SELECT \n",
    "    EXTRACT(year FROM timestamp) AS year, \n",
    "    EXTRACT(month FROM timestamp) AS month, \n",
    "    REGEXP_MATCHES(details->>'python', '^[0-9]+\\.[0-9]+')[1] AS python_major_minor_version,\n",
    "    COUNT(*) AS download_count\n",
    "FROM \n",
    "    pypi \n",
    "WHERE \n",
    "    (details->>'python' IS NOT NULL) AND (details->>'python' <> '')\n",
    "GROUP BY \n",
    "    year, month, python_major_minor_version\n",
    "ORDER BY \n",
    "    year DESC, month DESC, download_count DESC;\n",
    "\"\"\")\n"
   ]
  }
 ],
 "metadata": {
  "kernelspec": {
   "display_name": "Python 3",
   "language": "python",
   "name": "python3"
  },
  "language_info": {
   "codemirror_mode": {
    "name": "ipython",
    "version": 3
   },
   "file_extension": ".py",
   "mimetype": "text/x-python",
   "name": "python",
   "nbconvert_exporter": "python",
   "pygments_lexer": "ipython3",
   "version": "3.11.6"
  }
 },
 "nbformat": 4,
 "nbformat_minor": 2
}
